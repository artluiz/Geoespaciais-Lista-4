{
  "nbformat": 4,
  "nbformat_minor": 0,
  "metadata": {
    "colab": {
      "provenance": [],
      "toc_visible": true,
      "include_colab_link": true
    },
    "kernelspec": {
      "name": "python3",
      "display_name": "Python 3"
    },
    "language_info": {
      "name": "python"
    }
  },
  "cells": [
    {
      "cell_type": "markdown",
      "metadata": {
        "id": "view-in-github",
        "colab_type": "text"
      },
      "source": [
        "<a href=\"https://colab.research.google.com/github/artluiz/Geoespaciais-Lista-4/blob/main/5967_Prova2.ipynb\" target=\"_parent\"><img src=\"https://colab.research.google.com/assets/colab-badge.svg\" alt=\"Open In Colab\"/></a>"
      ]
    },
    {
      "cell_type": "code",
      "execution_count": null,
      "metadata": {
        "id": "wjYwsGsFjyzt"
      },
      "outputs": [],
      "source": [
        "# o geopandas não está instalado no Colab por default\n",
        "!pip install --upgrade geopandas"
      ]
    },
    {
      "cell_type": "code",
      "source": [
        "# dados e geodados\n",
        "import pandas as pd\n",
        "import geopandas as gpd\n",
        "\n",
        "# download de arquivos\n",
        "import urllib.request\n",
        "\n",
        "#visualização\n",
        "import matplotlib.pyplot as plt\n",
        "\n",
        "import folium\n",
        "import numpy\n",
        "\n",
        "%matplotlib inline"
      ],
      "metadata": {
        "id": "ZguiYeMxj38D"
      },
      "execution_count": null,
      "outputs": []
    },
    {
      "cell_type": "markdown",
      "source": [
        "# Questão 1"
      ],
      "metadata": {
        "id": "a8kM6_4gsG7x"
      }
    },
    {
      "cell_type": "markdown",
      "source": [
        "## Carga dos dados"
      ],
      "metadata": {
        "id": "L3CqVF5PU8uP"
      }
    },
    {
      "cell_type": "code",
      "source": [
        "url= 'https://geoservicos.pbh.gov.br/geoserver/wfs?service=WFS&version=1.0.0&request=GetFeature&typeName=ide_bhgeo:BAIRRO_OFICIAL&srsName=EPSG:31983&outputFormat=application%2Fjson'\n",
        "bairros = gpd.read_file(url)\n",
        "bairros.head()"
      ],
      "metadata": {
        "id": "mBWVFOTekBdF"
      },
      "execution_count": null,
      "outputs": []
    },
    {
      "cell_type": "code",
      "source": [
        "url= 'https://geoservicos.pbh.gov.br/geoserver/wfs?service=WFS&version=1.0.0&request=GetFeature&typeName=ide_bhgeo:ESCOLAS_MUNICIPAIS_ENSINO_FUNDAMENTAL&srsName=EPSG:31983&outputFormat=application%2Fjson'\n",
        "escolas = gpd.read_file(url)\n",
        "escolas = escolas[['ID_EQUIP_EDUCACAO', 'NOME','CODIGO_INEP', 'BAIRRO', 'geometry']]\n",
        "escolas.head()"
      ],
      "metadata": {
        "id": "e4V5Zt7GkP2K"
      },
      "execution_count": null,
      "outputs": []
    },
    {
      "cell_type": "code",
      "source": [
        "num_join_espacial = bairros.sjoin(escolas, how='inner', predicate='contains').shape[0]\n",
        "num_join_atributos = bairros.merge(escolas, left_on='NOME', right_on='BAIRRO', how='inner').shape[0]\n",
        "\n",
        "print('Registros retornados')\n",
        "print('......join espacial: ', num_join_espacial)\n",
        "print('.join por atributos: ', num_join_atributos)"
      ],
      "metadata": {
        "id": "05VKIRgnnuY4"
      },
      "execution_count": null,
      "outputs": []
    },
    {
      "cell_type": "markdown",
      "source": [
        "## Resposta da Questão 1"
      ],
      "metadata": {
        "id": "LsZM08XwVYBp"
      }
    },
    {
      "cell_type": "code",
      "source": [
        "# Resposta da questão 1\n",
        "#Faz o join espacial nas duas tabelas com o método right para manter a ordenação da tabela escolas\n",
        "join_espacial = bairros.sjoin(escolas, how='right', predicate='contains')\n",
        "#copia escolas para o novo aruivo new_escolas\n",
        "new_escolas = escolas\n",
        "#faz a coluna bairro receber a NOME_left que possui os nomes dos bairros de cada escola após o join e respeita a ordenação do gbd escolas, assim eles podem apenas serem trocados\n",
        "new_escolas['BAIRRO'] = join_espacial['NOME_left']\n",
        "new_escolas"
      ],
      "metadata": {
        "id": "5Tga3dP6sR1m"
      },
      "execution_count": null,
      "outputs": []
    },
    {
      "cell_type": "markdown",
      "source": [
        "# Questão 2"
      ],
      "metadata": {
        "id": "c9vIUt4bVoH2"
      }
    },
    {
      "cell_type": "markdown",
      "source": [
        "## Resposta da Questão 2"
      ],
      "metadata": {
        "id": "B9K6dpOPsad7"
      }
    },
    {
      "cell_type": "code",
      "source": [
        "# Calcula a quantidade de escolas por km² em cada bairro ao iterar sobre cada geom de bairro e usando sum() para ter a quantidade total de escolas por bairro\n",
        "# e então dividir com a área ao uadrado de cada bairro\n",
        "bairros['escolas_km2'] = bairros['geometry'].apply(lambda geom: escolas.within(geom).sum() / (geom.area / 1000000))\n",
        "\n",
        "# Define a quantidade de figuras que terá no subplot mais o tamanho delas\n",
        "fig, ax = plt.subplots(1, 1, figsize=(12, 8))\n",
        "\n",
        "# Especifica a tabela qual será plotada e define a variável do mapa coroplético e os detalhes do mapa, como as linhas que representam as divisas dos bairros e sistema de cores\n",
        "bairros.plot(column='escolas_km2', cmap='gist_earth', linewidth=0.8, ax=ax, edgecolor='0.8', legend=True)\n",
        "\n",
        "# Define o título do mapa\n",
        "plt.title('Quantidade de Escolas por Metro Quadrado')\n",
        "plt.show()"
      ],
      "metadata": {
        "id": "2-yIlOKGZlG-"
      },
      "execution_count": null,
      "outputs": []
    },
    {
      "cell_type": "markdown",
      "source": [
        "# Questão 3"
      ],
      "metadata": {
        "id": "8G5zDiOzV7Gs"
      }
    },
    {
      "cell_type": "markdown",
      "source": [
        "### Carga dos dados"
      ],
      "metadata": {
        "id": "h3oHr3i3Uhl2"
      }
    },
    {
      "cell_type": "code",
      "source": [
        "# Links para download dos dados\n",
        "urlbase = 'https://drive.google.com/uc?export=download&id='\n",
        "\n",
        "rios_mg        = gpd.read_file(urlbase + '16V3_wSqo8FQRKnv15bxmQiJgKMeRc8Y2')\n",
        "estado_mg      = gpd.read_file(urlbase + '10380Yq-sOZUDJ4Ez2_2hiIdMfgsAqUEH')\n",
        "rodovias_mg    = gpd.read_file(urlbase + '18yYnsdpkuFZRJG0WmBe1CKyojLvaCE4g')"
      ],
      "metadata": {
        "id": "-vqQIdb0MWC5"
      },
      "execution_count": null,
      "outputs": []
    },
    {
      "cell_type": "markdown",
      "source": [
        "## Resposta da Questão 3"
      ],
      "metadata": {
        "id": "yfikavD6sa7V"
      }
    },
    {
      "cell_type": "code",
      "source": [
        "# Resposta da questão 3\n",
        "\n",
        "# Verifica as rodovias pavimentadas ao selecionar na tabela rodovias_mg apenas as que apresentem o tipo Pavimentada\n",
        "rodovias_pavimentadas = rodovias_mg[rodovias_mg['tipopnv'] == 'Pavimentada']\n",
        "\n",
        "# Realiza a sobreposição dos geom de ambos gbd com o parâmetro intersection para que seja mantido apenas as partes que se intersectam\n",
        "pontes_mg = gpd.overlay(rodovias_pavimentadas, rios_mg, how='intersection', keep_geom_type=False)\n",
        "\n",
        "# Remover a coluna geometry anterior, que após a sobreposição não é mais necessária\n",
        "pontes_mg = pontes_mg[['geometry']]\n",
        "\n",
        "# Visualização do GeoDataFrame gerado com possíveis localizações de pontes\n",
        "print(pontes_mg)\n",
        "\n",
        "#Quantidade total de possíveis pontes\n",
        "text = 'Quantidade total de possíveis pontes: '\n",
        "num = pontes_mg.shape[0] + 1\n",
        "print(text + str(num))"
      ],
      "metadata": {
        "id": "HG-B_dj5smOb"
      },
      "execution_count": null,
      "outputs": []
    },
    {
      "cell_type": "markdown",
      "source": [
        "# Questão 4"
      ],
      "metadata": {
        "id": "EaNVNS_5WHdT"
      }
    },
    {
      "cell_type": "markdown",
      "source": [
        "## Resposta da Questão 4"
      ],
      "metadata": {
        "id": "UzyhszexsbLZ"
      }
    },
    {
      "cell_type": "code",
      "source": [
        "# Resposta da questão 4\n",
        "# Criação de uma figura vazia com tamaho bom para a vizualição do GeoDataFrame\n",
        "fig, ax = plt.subplots(figsize=(10, 10))\n",
        "\n",
        "# Plotagem das camadas referentes as rodovias, rios e possíveis localizações de pontes\n",
        "rodovias_pavimentadas.plot(ax=ax, color='black', linewidth=1, label='Rodovias Pavimentadas')\n",
        "rios_mg.plot(ax=ax, color='purple', linewidth=1, label='Rios')\n",
        "pontes_mg.plot(ax=ax, color='yellow', linewidth=0.5, label='Possíveis Pontes')\n",
        "\n",
        "# Ajuste dos limites do mapa para melhor visualização\n",
        "ax.set_xlim(estado_mg.total_bounds[0], estado_mg.total_bounds[2])\n",
        "ax.set_ylim(estado_mg.total_bounds[1], estado_mg.total_bounds[3])\n",
        "\n",
        "# Título do ampa\n",
        "ax.set_title('Mapa de Rios, Rodovias e Pontes em Minas Gerais')\n",
        "\n",
        "# Adicionando legenda para melhor compreenção\n",
        "ax.legend()\n",
        "\n",
        "# Exibição da figura gerada\n",
        "plt.show()"
      ],
      "metadata": {
        "id": "AYf_70trsmtd"
      },
      "execution_count": null,
      "outputs": []
    }
  ]
}